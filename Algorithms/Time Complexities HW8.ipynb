{
 "cells": [
  {
   "cell_type": "markdown",
   "id": "84112b01",
   "metadata": {},
   "source": [
    "$\\newcommand{\\O}[1]{\\mathcal{O}\\left({#1}\\right)}$"
   ]
  },
  {
   "cell_type": "markdown",
   "id": "ac97f5ee",
   "metadata": {},
   "source": [
    "# Complejidad de Algoritmos\n",
    "\n",
    "## Modelo Computacional\n",
    "\n",
    "Para determinar la complejidad de un algoritmo se tiene que establecer un modelo computacional; pues gran parte del análisis de complejidad tiene como propósito abstraer propiedades del *hardware* para evaluar la eficiencia de un proceso computacional. Sin embargo, ciertas arquitecturas computacionales permiten realizar operaciones de forma instantánea que otras no y es por esta razón que es necesario indicar el modelo que se está usando. En este caso se tendrán las siguientes consideraciones\n",
    "\n",
    "* Las operaciones básicas de aritmética $\\left(+, -, \\times, \\div\\right)$ toman 1 instrucción.\n",
    "* La asignación (`=`) y comparación (`<`, `<=`, `==`, `>=`, `>`) de datos primitivos toman 1 instrucción.\n",
    "* Los operadores de incremento y decremento se consideran como operaciones de 1 instrucción.\n",
    "* Acceder a un valor almacenado en memoria, ya sea con un índice en un arreglo o con el operador `->` toma 1 instrucción.\n",
    "* Crear una instancia de un dato toma 1 instrucción.\n",
    "* La alocación dinámica de memoria `malloc`, tiene un orden logarítmico en el tamaño de la memoria asignada al proceso $\\O{\\lg M}$.\n",
    "* Liberar memoria con `free` se considera una operación constante de 1 instrucción.\n",
    "* Las llamadas a funciones no se consideran como operaciones, ni el paso de valores por referencia o valor, simplemente se considera el número de instrucciones que debe realizar la función.\n",
    "* En el caso de un enunciado `if`, se cuentan únicamente el número de instrucciones que se deben realizar, es decir las operaciones dentro de los paréntesis.\n",
    "* Los enunciados `for` y `while` como tal no requieren instrucciones para su ejecución, sino que se cuentan las instrucciones que se deben realizar en cada iteración\n",
    "    * En un ciclo `for` se debe contar además 1 instrucción por el paso de inicialización (usualmente una asignación).\n",
    "* Imprimir una cadena por pantalla toma una sola instrucción\n",
    "    * Para impresiones con formato se debe sumar cualquier operación adicional que se deba realizar para la impresión, sin contar el formato mismo. Por ejemplo si `x` es una variable de tipo entero:\n",
    "        * `printf(\"%i\\n\", x)` requiere de 1 instrucción.\n",
    "        * `printf(\"%i\\n\", x + 3)` requiere de 2 instrucciones.\n",
    "    \n",
    "Gran parte de este modelo se desarrolló pensando en la *Máquina de Acceso Aleatorio*, agregando algunas especificaciones por el lenguaje de programación empleado para manejar cuidadosamente la complejidad específica de los algoritmos."
   ]
  },
  {
   "cell_type": "markdown",
   "id": "31e151ae",
   "metadata": {},
   "source": [
    "# Librerías\n",
    "\n",
    "Se utilizó la librería `stdio.h` para mostrar por pantalla la ejecucción de algunas funciones e imprimir representaciones de las estrucutras de datos. `stdlib.h` se usó para el manejo de memoria y la generación de números pseudo-aletorios. Finalmente `time.h` se utilizó para generar una *seed* distinta en cada ejecución del programa."
   ]
  },
  {
   "cell_type": "code",
   "execution_count": 1,
   "id": "7ba22cfe",
   "metadata": {},
   "outputs": [],
   "source": [
    "#include <stdio.h>\n",
    "#include <stdlib.h>\n",
    "#include <time.h>"
   ]
  },
  {
   "cell_type": "markdown",
   "id": "a1aeef6b",
   "metadata": {},
   "source": [
    "Además, para las estrucuturas de datos estáticas (la pila y la cola en este caso) se definió un tamaño máximo de elementos que se puedan almacenar usando la directiva `define`."
   ]
  },
  {
   "cell_type": "code",
   "execution_count": 2,
   "id": "1a048c38",
   "metadata": {},
   "outputs": [],
   "source": [
    "#define MAX 10"
   ]
  },
  {
   "cell_type": "markdown",
   "id": "1fb46981",
   "metadata": {},
   "source": [
    "# Stack"
   ]
  },
  {
   "cell_type": "code",
   "execution_count": 3,
   "id": "c413cbd6",
   "metadata": {},
   "outputs": [],
   "source": [
    "struct stack {\n",
    "    int values[MAX];\n",
    "    int top;\n",
    "};"
   ]
  },
  {
   "cell_type": "markdown",
   "id": "85a15b46",
   "metadata": {},
   "source": [
    "## Constructor"
   ]
  },
  {
   "cell_type": "code",
   "execution_count": 4,
   "id": "949d2959",
   "metadata": {},
   "outputs": [],
   "source": [
    "void initStack(struct stack *s) {\n",
    "    s -> top = -1;\n",
    "}"
   ]
  },
  {
   "cell_type": "markdown",
   "id": "de1f7f63",
   "metadata": {},
   "source": [
    "### Complejidad específica\n",
    "\n",
    "Acceder a `top` es una instrucción y asignarle el valor `-1` es otra, por lo tanto la complejidad específica es\n",
    "\\begin{equation}\n",
    "    \\O{2}.\n",
    "\\end{equation}\n",
    "\n",
    "### Complejidad general\n",
    "\n",
    "Una vez conocida la complejidad específica, como el orden de crecimiento constante, se pueden ignorar los coeficientes y reducirlo a\n",
    "\\begin{equation}\n",
    "    \\O{1}.\n",
    "\\end{equation}"
   ]
  },
  {
   "cell_type": "markdown",
   "id": "c457b25b",
   "metadata": {},
   "source": [
    "## Checar si la pila está llena"
   ]
  },
  {
   "cell_type": "code",
   "execution_count": 5,
   "id": "3246ab43",
   "metadata": {},
   "outputs": [],
   "source": [
    "short stackIsFull(struct stack *s) {\n",
    "    return s -> top == MAX - 1 ? 1 : 0;\n",
    "}"
   ]
  },
  {
   "cell_type": "markdown",
   "id": "09232f43",
   "metadata": {},
   "source": [
    "### Complejidad específica\n",
    "\n",
    "Acceder al elemento `top` requiere de una instrucción, la comparación con el valor máximo (`MAX`) es otra y el valor de retorno que regresa el operador ternario una más, como esto siempre se realiza sin importar el tamaño del stack, la complejidad específica es:\n",
    "\\begin{equation}\n",
    "    \\O{3}.\n",
    "\\end{equation}\n",
    "\n",
    "### Complejidad general\n",
    "\n",
    "Como el número de pasos no cambia con el tamaño de la entrada la complejidad es constante, en notación general escribimos esto como\n",
    "\\begin{equation}\n",
    "    \\O{1}.\n",
    "\\end{equation}\n"
   ]
  },
  {
   "cell_type": "markdown",
   "id": "632ff903",
   "metadata": {},
   "source": [
    "## Checar si la pila está vacía"
   ]
  },
  {
   "cell_type": "code",
   "execution_count": 6,
   "id": "db1e69d0",
   "metadata": {},
   "outputs": [],
   "source": [
    "short stackIsEmpty(struct stack *s) {\n",
    "    return s -> top == -1 ? 1 : 0;\n",
    "}"
   ]
  },
  {
   "cell_type": "markdown",
   "id": "9eeaa5fe",
   "metadata": {},
   "source": [
    "### Complejidad específica\n",
    "\n",
    "Acceder al elemento `top` toma una instrucción, compararlo con `-1` otra y el valor de retorno del operador ternario una más, siendo esta una operación con complejidad\n",
    "\\begin{equation}\n",
    "    \\O{3}.\n",
    "\\end{equation}\n",
    "\n",
    "### Complejidad general\n",
    "\n",
    "Debido a que es una operación que toma tiempo constante, chechar si la pila está vacía con esta implementación tiene una complejidad general\n",
    "\\begin{equation}\n",
    "    \\O{1}.\n",
    "\\end{equation}"
   ]
  },
  {
   "cell_type": "markdown",
   "id": "2e3f0fa4",
   "metadata": {},
   "source": [
    "## Push"
   ]
  },
  {
   "cell_type": "code",
   "execution_count": 7,
   "id": "ae88a488",
   "metadata": {},
   "outputs": [],
   "source": [
    "void push(struct stack *s, int x) {\n",
    "    if(stackIsFull(s)) {\n",
    "        printf(\"Cannot push: Stack is full\\n\");\n",
    "        return;\n",
    "    }\n",
    "    printf(\"Pushed: %i\\n\", x);\n",
    "    s -> top++;\n",
    "    s -> values[s -> top] = x;\n",
    "}"
   ]
  },
  {
   "cell_type": "markdown",
   "id": "e333cf0b",
   "metadata": {},
   "source": [
    "### Complejidad específica\n",
    "\n",
    "Primero se realiza la función `stackIsFull` la cual toma 3 pasos; después, en el peor de los casos la pila no está llena ya que se tiene que imprimir un mensaje (lo cual se hace con una instrucción), se accede al elemento `top` y se incrementa (2 instrucciones); después se accede nuevamente a `top` y se accede a este indice en el arreglo `values` (2 instrucciones) por lo tanto se tiene una complejidad específica de \n",
    "\\begin{equation}\n",
    "    \\O{3+1+2+2} = \\O{8}.\n",
    "\\end{equation}\n",
    "en el peor de los casos.\n",
    "\n",
    "### Complejidad general\n",
    "\n",
    "Debido a que es una operación que toma tiempo constante, chechar si la pila está vacía con esta implementación tiene una complejidad general\n",
    "\\begin{equation}\n",
    "    \\O{1}.\n",
    "\\end{equation}"
   ]
  },
  {
   "cell_type": "markdown",
   "id": "af6e90d4",
   "metadata": {},
   "source": [
    "## Pop"
   ]
  },
  {
   "cell_type": "code",
   "execution_count": 8,
   "id": "86200935",
   "metadata": {},
   "outputs": [],
   "source": [
    "void pop(struct stack *s) {\n",
    "    if (stackIsEmpty(s)) {\n",
    "        printf(\"Cannot pop: Stack is empty\\n\");\n",
    "        return;\n",
    "    }\n",
    "    printf(\"Popped: %i\\n\", s -> values[s -> top]);\n",
    "    s -> values[s -> top] = 0;\n",
    "    s -> top--;\n",
    "}"
   ]
  },
  {
   "cell_type": "markdown",
   "id": "826f0656",
   "metadata": {},
   "source": [
    "### Complejidad específica\n",
    "\n",
    "Primero se realiza la función `stackIsEmpty` que requiere de 3 operaciones básicas, después en el peor de los casos el `if`no se ejecuta, pues en caso de que se ejecute se realizan solo se realizan dos instrucciones (la impresión y el `return`); en cambio si no se ejecuta se realiza una impresión que requiere acceder al elemento `top` y a este índice en al arreglo de `values` (siendo 3 instrucciones en total contando la impresión y los accesos en memoria), después se accede a `top` nuevamente, se utiliza como índice en el arreglo `values` y se asigna a 0 (dando 3 instrucciones más) y finalmente se accede a `top` y se disminuye con el operador `--` (que son 2 instrucciones más), resultando en una complejidad específica de\n",
    "\\begin{equation}\n",
    "    \\O{3+3+3+2}=\\O{11}.\n",
    "\\end{equation}\n",
    "\n",
    "### Complejidad general\n",
    "\n",
    "Para la complejidad general podemos ignorar el coeficiente en el término constante y reducir la expresión a su forma simplificada\n",
    "\\begin{equation}\n",
    "    \\O{1}.\n",
    "\\end{equation}"
   ]
  },
  {
   "cell_type": "markdown",
   "id": "3bc11816",
   "metadata": {},
   "source": [
    "## Imprimir"
   ]
  },
  {
   "cell_type": "code",
   "execution_count": 9,
   "id": "f78ba3ed",
   "metadata": {},
   "outputs": [],
   "source": [
    "void printStack(struct stack *s) {\n",
    "    int i;\n",
    "    printf(\"Stack: \");\n",
    "    for (i = s -> top; i > -1; i--)\n",
    "        printf(\"%i -> \", s -> values[i]);\n",
    "    printf(\"//\\n\");\n",
    "}"
   ]
  },
  {
   "cell_type": "markdown",
   "id": "b34fa652",
   "metadata": {},
   "source": [
    "### Complejidad específica\n",
    "\n",
    "Para imprimir primero se crea una instancia de un entero `i` (1 instrucción), después se realiza una impresión (1 instrucción), posteriomente en el ciclo `for` la primera vez que se ejecuta se accede al elemento `top` y se asigna su valor a la variable `i` (2 instrucciones); después por cada iteración siempre:\n",
    "\n",
    "* se realiza una comparación (1 instrucción)\n",
    "* se accede a la posición `i` del arreglo `values` (1 instrucción)\n",
    "* se realiza una impresión (1 instrucción)\n",
    "* se decrementa `i` (1 instrucción)\n",
    "\n",
    "siendo un total de 4 instrucciones por cada iteración ($4n$). \n",
    "\n",
    "En el peor de los casos la pila está llena, pero al ser estática el tamaño máximo es de 10 elementos, por lo tanto la complejidad específica del ciclo son las primeras 2 instrucciones más las instrucciones que se realizan en cada iteración $\\left(4\\times10\\right)$. Entonces la complejidad específica de toda la función es\n",
    "\\begin{equation}\n",
    "    \\O{1 + 1 + 2 + 40} = \\O{44}\n",
    "\\end{equation}\n",
    "en el peor de los casos (cuando el stack está lleno).\n",
    "\n",
    "En caso de que el tamaño máximo se consideré como una cantidad que puede variar y no se limite a la especificación previa, la cantidad de instrucciones del ciclo no se puede reducir y la complejidad específica, en el peor de los casos sería\n",
    "\\begin{equation}\n",
    "    \\O{1 + 1 + 2 + 4n} = \\O{4n + 4},\n",
    "\\end{equation}\n",
    "donde $n$ es el tamaño del stack. Posteriormente se considerará está como la complejidad ya que es un caso más general.\n",
    "\n",
    "### Complejidad general\n",
    "\n",
    "Usando la complejidad específica se puede llegar a la complejidad general usando el término dominante y eliminando los coeficientes. Si se considera el caso en el que el tamaño es fijo entonces la complejidad sería constante\n",
    "\\begin{equation}\n",
    "    \\O{1},\n",
    "\\end{equation}\n",
    "\n",
    "en cambio si se considera el caso en el que el tamaño es variable, la complejidad es lineal en el tamaño del stack\n",
    "\\begin{equation}\n",
    "    \\O{n}.\n",
    "\\end{equation}"
   ]
  },
  {
   "cell_type": "markdown",
   "id": "f1267632",
   "metadata": {},
   "source": [
    "## Crear stack aleatorio"
   ]
  },
  {
   "cell_type": "code",
   "execution_count": 10,
   "id": "59282d24",
   "metadata": {},
   "outputs": [],
   "source": [
    "void randomizeStack(struct stack *s, int N) {\n",
    "    int i;\n",
    "\n",
    "    for (i = 0; i < N; ++i) {\n",
    "        printStack(s);\n",
    "\n",
    "        short x = rand() % 2;    \n",
    "        x ? pop(s) : push(s, rand() % 10);\n",
    "        printf(\"\\n\");\n",
    "    }\n",
    "}"
   ]
  },
  {
   "cell_type": "markdown",
   "id": "65b2f84b",
   "metadata": {},
   "source": [
    "### Complejidad específica\n",
    "\n",
    "Para esta función primero se crea una instancia de un entero `i` (1 instrucción), después, la primera vez que se llega al ciclo `for` se asigna un valor de 0 a `i` (1 instrucción) y por cada iteración en el ciclo:\n",
    "\n",
    "* se realiza una comparación (1 instrucción)\n",
    "* se ejecuta la función `printStack` que es proporcional al tamaño del stack $\\left(\\O{4n + 4}\\right)$\n",
    "* se crea una instancia `x` de un `short` (1 instrucción), se realiza la función `rand()` (1 instrucción más), se toma el módulo 2 del resultado (otra instrución) y se le asigna a la variable (1 instrucción)\n",
    "* se toma el valor de `x` (1 instrucción) y se realiza una de dos operaciones: `push` o `pop`. \n",
    "    * Aunque localmente parece que en el peor de los casos se realiza el `pop` ya que es una función que requiere más pasos $\\left(\\O{11}\\right)$ que hacer el `push`, el `rand` y tomar el módulo $\\left(\\O{8 + 2}=\\O{10}\\right)$, la segunda es peor ya que incrementa el tamaño del stack y empeora la complejidad de `printStack`.\n",
    "* se imprime un salto de línea (1 instrucción)\n",
    "* se incrementa `i` (1 instrucción)\n",
    "\n",
    "Es decir que en total se realizan $4n_{i} + 22$ operaciones en cada iteración, donde $n_{i}$ es el tamaño del stack cada que se imprima, donde $i\\in\\{0,1,2,\\dots, N-1\\}$ corresponde al valor de la variable `i`. Como en el peor de los casos se incrementa el tamaño del stack, este tiene un tamaño inicial $n$ y después del `push` incrementa en 1 unidad; como la impresión se hace antes de esta operación $n_{i}=n + i$. Por lo tanto, contando todas las iteraciones se requieren\n",
    "$$\\sum_{i=0}^{N-1} 4n_{i} + 22 = \\sum_{i=0}^{N-1} 4\\left(n + i\\right) + 22$$\n",
    "pasos, donde $N$ es el valor ingresado como segundo argumento de la función.\n",
    "\n",
    "Usando la linealidad de la suma y resolviendo las series se deduce\n",
    "\\begin{equation}\n",
    "    \\begin{split}\n",
    "        \\sum_{i=0}^{N-1} 4\\left(n + i\\right) + 22 \n",
    "            &= 4\\sum_{i=0}^{N-1}n + 4\\sum_{i=0}^{N-1}i + \\sum_{i=0}^{N-1}22\\\\\n",
    "            &= 4nN + \\frac{N\\left(N-1\\right)}{2} + 22N\\\\\n",
    "            &= \\frac{N^2 + \\left(8n + 43\\right)N}{2}.\n",
    "    \\end{split}\n",
    "\\end{equation}\n",
    "\n",
    "Finalmente, agregando las instrucciones anteriores se deduce la complejidad específica:\n",
    "\\begin{equation}\n",
    "    \\O{\\frac{N^2 + \\left(8n + 43\\right)N}{2} + 2} = \\O{\\frac{N^2}{2} + \\frac{8n + 43}{2}N + 2}.\n",
    "\\end{equation}\n",
    "\n",
    "### Complejidad general\n",
    "\n",
    "Para la complejidad general primero se pueden ignorar los coeficientes y escribirlo en términos del tamaño inicial del stack $n$ y el número que se pase como argumento en la función $N$, para así deducir que la complejidad general, en términos del tamaño inicial del stack $n$ y el tamaño máximo $N$ es\n",
    "\\begin{equation}\n",
    "    \\O{N^2 + nN}.\n",
    "\\end{equation}\n",
    "\n",
    "En caso de querer escribir la complejidad en términos de una sola variable, podemos definir $m$ como el tamaño final del stack y se sabe que en el peor escenario\n",
    "\\begin{equation}\n",
    "    m = n + N,\n",
    "\\end{equation}\n",
    "ya que en cada iteración del ciclo se añade un nuevo elemento a la pila. \n",
    "\n",
    "Agrupando términos podemos escribir la complejidad como\n",
    "\\begin{equation}\n",
    "    \\O{N(N+n)} = \\O{Nm},\n",
    "\\end{equation}\n",
    "además, como $n, N$ y consecuentemente $m$ son estrictamente números naturales, se satisface la desiguladad $m \\geq N$ y en consecuencia multiplicando por $m$ ambos lados se deduce que $m^2 \\geq Nm$; es decir que la complejidad general es cuadrática en el tamaño final del stack\n",
    "\\begin{equation}\n",
    "    \\O{m^2}.\n",
    "\\end{equation}"
   ]
  },
  {
   "cell_type": "markdown",
   "id": "1ac4f985",
   "metadata": {},
   "source": [
    "## Programa principal"
   ]
  },
  {
   "cell_type": "code",
   "execution_count": 11,
   "id": "5caab29a",
   "metadata": {},
   "outputs": [
    {
     "name": "stdout",
     "output_type": "stream",
     "text": [
      "Choose a positive integer: 5\n",
      "Stack: //\n",
      "Pushed: 7\n",
      "\n",
      "Stack: 7 -> //\n",
      "Popped: 7\n",
      "\n",
      "Stack: //\n",
      "Pushed: 4\n",
      "\n",
      "Stack: 4 -> //\n",
      "Popped: 4\n",
      "\n",
      "Stack: //\n",
      "Pushed: 7\n",
      "\n",
      "Stack: 7 -> //\n"
     ]
    }
   ],
   "source": [
    "#include <iostream>\n",
    "srand(time(NULL));\n",
    "struct stack s;\n",
    "initStack(&s);\n",
    "\n",
    "int N;\n",
    "printf(\"Choose a positive integer: \");\n",
    "scanf(\"%i\", &N);\n",
    "std::cin >> N;\n",
    "randomizeStack(&s, N);\n",
    "printStack(&s);"
   ]
  },
  {
   "cell_type": "markdown",
   "id": "123831c5",
   "metadata": {},
   "source": [
    "### Complejidad específica\n",
    "\n",
    "El programa principal necesita primero acceder al tiempo con la función `time(NULL)` (1 instrucción), después se establece la semilla con `srand` usando ese tiempo (1 instrucción). Posteriormente se crea una instancia de un stack (1 instrucción) y se llama al constructor `initStack()` (2 instrucciones). Para el manejo de datos, después se crea una instancia `N` de un entero (1 instrucción), se imprime un mensaje (1 instrucción) y se almacena un valor ingresado por el usuario en la variable `N` (1 instrucción).\n",
    "\n",
    "Posteriormente se genera una pila aleatoria con la función `randomizeStack()` que toma $\\frac{N^2 + \\left(8n + 43\\right)N}{2} + 2$ pasos y en este caso, como la pila empieza vacía $n=0$, por lo tanto está instrucción requiere exactamente $\\frac{N^2 + 43N}{2} + 2$ pasos y se tiene un stack de tamaño $N$ asumiendo el peor de los casos, que es cuando se realizan únicamente inserciones. Finalmente se imprime la pila de tamaño $N$ lo cual requiere de $4N + 4$ instrucciones más.\n",
    "\n",
    "En total, considerando todas las instrucciones, en el peor de los casos el programa principal tiene una compejidad específica\n",
    "\n",
    "\\begin{equation}\n",
    "    \\O{\\frac{N^2 + 43N}{2} + 4N + 14} = \\O{\\frac{N^2}{2} + \\frac{51}{2}N + 14}.\n",
    "\\end{equation}\n",
    "\n",
    "### Complejidad general\n",
    "\n",
    "Una vez conocida la complejidad específica, basta con considerar el término dominante, que es el cuadrático, e ignorar los coeficientes para determinar la complejidad general del programa, que es cuadrática en la entrada del usuario\n",
    "\\begin{equation}\n",
    "    \\O{N^2}.\n",
    "\\end{equation}"
   ]
  },
  {
   "cell_type": "markdown",
   "id": "062a48a1",
   "metadata": {},
   "source": [
    "# Queue"
   ]
  },
  {
   "cell_type": "code",
   "execution_count": 12,
   "id": "5c9ebb94",
   "metadata": {},
   "outputs": [],
   "source": [
    "struct queue {\n",
    "    int values[MAX];\n",
    "    int front;\n",
    "    int back;\n",
    "};"
   ]
  },
  {
   "cell_type": "markdown",
   "id": "2b47a7f5",
   "metadata": {},
   "source": [
    "## Constructor"
   ]
  },
  {
   "cell_type": "code",
   "execution_count": 13,
   "id": "c0badce9",
   "metadata": {},
   "outputs": [],
   "source": [
    "void initQueue(struct queue *q) {\n",
    "    q -> front = 0;\n",
    "    q -> back = 0;\n",
    "}"
   ]
  },
  {
   "cell_type": "markdown",
   "id": "63822e23",
   "metadata": {},
   "source": [
    "### Complejidad específica\n",
    "\n",
    "En esta función primero se accede al elemento `front` de la cola y se le asigna un valor de 0 (2 instrucciones), después se accede al elemento `back` y también se le asigna un valor de 0 (otras 2 instrucciones), en total se realizan 4 operaciones básicas, por lo que el constructor tiene una complejidad específica\n",
    "\\begin{equation}\n",
    "    \\O{4}.\n",
    "\\end{equation}\n",
    "\n",
    "### Complejidad general\n",
    "\n",
    "Como se mostró previamente, el constructor, requiere de 4 operaciones, sin importar la entrada, por lo tanto es una operación de tiempo constante y su complejidad general es\n",
    "\\begin{equation}\n",
    "    \\O{1}.\n",
    "\\end{equation}"
   ]
  },
  {
   "cell_type": "markdown",
   "id": "19497a98",
   "metadata": {},
   "source": [
    "## Checar si la cola está vacía"
   ]
  },
  {
   "cell_type": "code",
   "execution_count": 14,
   "id": "69212689",
   "metadata": {},
   "outputs": [],
   "source": [
    "short emptyQueue(struct queue *q) {\n",
    "    return q -> front == q -> back ? 1 : 0;\n",
    "}"
   ]
  },
  {
   "cell_type": "markdown",
   "id": "e2518862",
   "metadata": {},
   "source": [
    "### Complejidad específica\n",
    "\n",
    "Para checar si la cola `q` está vacía se accede al elemento `front`, al elemento `back`, se comparan y da un valor de retorno con el operador ternario, siendo un total de 4 instrucciones básicas\n",
    "\\begin{equation}\n",
    "    \\O{4}.\n",
    "\\end{equation}\n",
    "\n",
    "\n",
    "### Complejidad general\n",
    "\n",
    "Como la complejidad específica es constante, su complejidad general es\n",
    "\\begin{equation}\n",
    "    \\O{1}.\n",
    "\\end{equation}"
   ]
  },
  {
   "cell_type": "markdown",
   "id": "cfa98511",
   "metadata": {},
   "source": [
    "## Checar si la cola está llena"
   ]
  },
  {
   "cell_type": "code",
   "execution_count": 15,
   "id": "bfda1472",
   "metadata": {},
   "outputs": [],
   "source": [
    "short fullQueue(struct queue *q) {\n",
    "    return q -> back == MAX ? 1 : 0;\n",
    "}"
   ]
  },
  {
   "cell_type": "markdown",
   "id": "22687ab5",
   "metadata": {},
   "source": [
    "### Complejidad específica\n",
    "\n",
    "Para checar si la cola está llena se accede al elemento `back`, se compara con el valor `MAX` definido previamente y se obtiene un valor del operador ternario, resultando en 3 instrucciones, por lo tanto la complejidad específica es\n",
    "\\begin{equation}\n",
    "    \\O{3}.\n",
    "\\end{equation}\n",
    "\n",
    "### Complejidad general\n",
    "\n",
    "Conociendo la complejidad específica, como esta es constante; es decir que es independiente al tamaño de la entrada, la complejidad general de esta operación es\n",
    "\\begin{equation}\n",
    "    \\O{1}.\n",
    "\\end{equation}"
   ]
  },
  {
   "cell_type": "markdown",
   "id": "5ba2161e",
   "metadata": {},
   "source": [
    "## Enqueue"
   ]
  },
  {
   "cell_type": "code",
   "execution_count": 16,
   "id": "597044a0",
   "metadata": {},
   "outputs": [],
   "source": [
    "void enqueue(struct queue *q, int x) {\n",
    "    if (fullQueue(q)) {\n",
    "        printf(\"Cannot enqueue: Queue is full\\n\");\n",
    "        return;\n",
    "    }\n",
    "    printf(\"Enqueued: %i\\n\", x);\n",
    "    q -> values[q -> back] = x;\n",
    "    q -> back++;\n",
    "}"
   ]
  },
  {
   "cell_type": "markdown",
   "id": "793e58fa",
   "metadata": {},
   "source": [
    "### Complejidad específica\n",
    "\n",
    "Para realizar la operación `enqueue`, primero se checa si la cola está vacía (3 instrucciones), en el peor de los casos no se ejecuta el `if` ya que se tendría que imprimir un mensaje (1 instrucción), acceder al elemento `back` y a ese indice en el arreglo `values` (2 instrucciones), asignar el valor dado (1 instrucción), acceder al elemento `back` e incrementarlo (2 instrucciones). Por lo tanto la complejidad específica es\n",
    "\\begin{equation}\n",
    "    \\O{9}.\n",
    "\\end{equation}\n",
    "\n",
    "### Complejidad general\n",
    "\n",
    "Debido a que `enqueue` requiere de hasta 9 instrucciones básicas sin importar la entrada que se le pase, es una operación de tiempo constante y su complejidad general es\n",
    "\\begin{equation}\n",
    "    \\O{1}.\n",
    "\\end{equation}"
   ]
  },
  {
   "cell_type": "markdown",
   "id": "03a74da1",
   "metadata": {},
   "source": [
    "## Dequeue"
   ]
  },
  {
   "cell_type": "code",
   "execution_count": 17,
   "id": "42fd20ff",
   "metadata": {},
   "outputs": [],
   "source": [
    "void dequeue(struct queue *q) {\n",
    "    if (emptyQueue(q)){\n",
    "        printf(\"Cannot dequeue: Queue is empty\\n\");\n",
    "        return;\n",
    "    }\n",
    "    printf(\"Dequeued: %i\\n\", q -> values[q -> front]);\n",
    "    int i;\n",
    "    for (i = 0; i < (q -> back -1); i++)\n",
    "        q -> values[i] = q -> values[i+1];\n",
    "    q -> values[q -> back] = 0;\n",
    "    q -> back--;\n",
    "}"
   ]
  },
  {
   "cell_type": "markdown",
   "id": "62313527",
   "metadata": {},
   "source": [
    "### Complejidad específica\n",
    "\n",
    "La operación para desencolar primero revisa si la cola está vacía (4 instrucciones), en caso de que esté vacía simplemente se imprime un mensaje y la función termina (este es el mejor escenario), en caso contrario, se accede al elemento `front` y se usa como índice en el arreglo `values` (2 instrucciones), se crea una instancia `i` de un entero (1 instrucción) y se realiza un ciclo `for`, en el que primero se asigna a la variable `i` el valor de 0 (1 instrucción) y despueś por cada iteración:\n",
    "* se accede al elemento `back`, se realiza una resta y se compara con `i` (3 instrucciones)\n",
    "* se accede a las posiciones `i` e `i+1` de `values` (2 instrucciones)\n",
    "* se asigna el valor de la posición `i+1` a la posición `i` de `values` (1 instrucción)\n",
    "* el valor de `i` incrementa con el operador `++` (1 instrucción)\n",
    "\n",
    "En el peor de los casos la cola está llena y por lo tanto `back` tiene el mismo valor que `MAX`, es decir que el ciclo se realiza `MAX - 1` veces. En el caso de esta implementación `MAX` tiene un valor de 10, pero si se considera una cola estática que pueda tener un tamaño máximo distinto $N$, en el peor escenario todas las iteraciones en total requieren $\\left(3 + 2 + 1 + 1\\right)\\left(N-1\\right) = 7N - 7$ instrucciones.\n",
    "\n",
    "Finalmente se accede al elemento `back`, se usa como índice para acceder a un valor de `values` y se le asigna 0 como valor (3 instrucciones), después se accede a `back` nuevamente y se decrementa en 1 unidad (2 pasos). Sumando todas las instrucciones, la complejidad especifíca de `dequeue` es\n",
    "\\begin{equation}\n",
    "    \\O{4 + 2 + 1 + 1 + 7N - 7 + 3 + 2} = \\O{7N + 6}.\n",
    "\\end{equation}\n",
    "\n",
    "\n",
    "### Complejidad general\n",
    "\n",
    "Conociendo la complejidad específica, como esta varía linealmente con el tamaño de la cola $N$, asumiendo que este valor puede ser tan grande como se deseé, la complejidad general es\n",
    "\\begin{equation}\n",
    "    \\O{N}.\n",
    "\\end{equation}"
   ]
  },
  {
   "cell_type": "markdown",
   "id": "55643213",
   "metadata": {},
   "source": [
    "## Imprimir"
   ]
  },
  {
   "cell_type": "code",
   "execution_count": 18,
   "id": "1acb977b",
   "metadata": {},
   "outputs": [],
   "source": [
    "void printQueue(struct queue *q) {\n",
    "    int i;\n",
    "    printf(\"Queue: \");\n",
    "    for (i = q -> front; i < q -> back; i++)\n",
    "        printf(\"%i <- \", q -> values[i]);\n",
    "    \n",
    "    printf(\"//\\n\");\n",
    "\n",
    "}"
   ]
  },
  {
   "cell_type": "markdown",
   "id": "9d362a76",
   "metadata": {},
   "source": [
    "### Complejidad específica\n",
    "\n",
    "La función de impresión primero crea una instancia `i` de un entero (1 instrucción), después imprime un mensaje (1 instrucción) y posteriormente en la primera iteración del ciclo `for` se accede al elemento `front` de la cola y se asigna su valor a `i` (2 instrucciones). A continuación, por cada iteración en el ciclo, el programa:\n",
    "* accede al elemento `back` y compara su valor con `i` (2 instrucciones)\n",
    "* accede al elemento `i` del arreglo `values` (2 instrucciones)\n",
    "* imprime el elemento y una flecha (1 instrucción)\n",
    "* incrementa `i` en una unidad (1 instrucción)\n",
    "\n",
    "En el peor escenario la cola está llena y por lo tanto el ciclo se realiza un total de `MAX` veces. Dicho valor se denotará como $N$ y el número de instrucciones que se realizan en total por todas las iteraciones es $\\left(2 + 2 + 1 + 1\\right)N = 6N$.\n",
    "\n",
    "Finalmente se imprime un símbolo más y un salto de línea para indicar el final de la cola, lo cual toma una instrucción adicional. Sumando todas las instrucciones, la complejidad específica de la función `printQueue` es\n",
    "\\begin{equation}\n",
    "    \\O{1 + 1 + 2 + 6N + 1} = \\O{6N + 5}.\n",
    "\\end{equation}\n",
    "\n",
    "### Complejidad general\n",
    "\n",
    "Como la cantidad de instrucciones básicas crece linealmente con el tamaño máximo $N$, la complejidad general es lineal, lo cual se denota como\n",
    "\\begin{equation}\n",
    "    \\O{N}.\n",
    "\\end{equation}"
   ]
  },
  {
   "cell_type": "markdown",
   "id": "dfc02404",
   "metadata": {},
   "source": [
    "## Programa principal"
   ]
  },
  {
   "cell_type": "code",
   "execution_count": 19,
   "id": "b63ed5bf",
   "metadata": {},
   "outputs": [
    {
     "name": "stdout",
     "output_type": "stream",
     "text": [
      "Enqueued: 3\n",
      "Enqueued: 5\n",
      "Enqueued: 5\n",
      "Enqueued: 4\n",
      "Enqueued: 5\n",
      "Enqueued: 1\n",
      "Enqueued: 4\n",
      "Enqueued: 1\n",
      "Enqueued: 1\n",
      "Enqueued: 1\n",
      "Queue: 3 <- 5 <- 5 <- 4 <- 5 <- 1 <- 4 <- 1 <- 1 <- 1 <- //\n",
      "\n",
      "Squaring queue elements...\n",
      "Queue: 9 <- 25 <- 25 <- 16 <- 25 <- 1 <- 16 <- 1 <- 1 <- 1 <- //\n"
     ]
    }
   ],
   "source": [
    "srand(time(NULL));\n",
    "\n",
    "struct queue q;\n",
    "initQueue(&q);\n",
    "\n",
    "int i;\n",
    "for (i = 0; i < MAX; i++)\n",
    "    enqueue(&q, rand() % 5 + 1);\n",
    "printQueue(&q);\n",
    "\n",
    "printf(\"\\nSquaring queue elements...\\n\");\n",
    "\n",
    "for (i = 0; i < MAX; i++)\n",
    "     q.values[i] *= q.values[i];\n",
    "printQueue(&q); "
   ]
  },
  {
   "cell_type": "markdown",
   "id": "9eb99d94",
   "metadata": {},
   "source": [
    "### Complejidad específica\n",
    "\n",
    "El programa principal primero accede al tiempo con la función `time(NULL)` que toma 1 instrucción y usa ese valor para establecer una semilla con `srand` (1 instrucción). El programa continúa creando una instancia de una cola (1 instrucción) y llamando al constructor (4 instrucciones). Después se crea una instancia de un entero (1 instrucción), se le asigna el valor de 0 al empezar el `for` loop (1 instrucción) y por cada iteración en el ciclo:\n",
    "* se compara `i` con `MAX` (1 instrucción)\n",
    "* se obtiene un número con `rand` (1 instrucción)\n",
    "* se calcula el módulo 5 del número aleatorio (1 instrucción)\n",
    "* se le suma 1 al resultado (1 instrucción)\n",
    "* se encola el número obtenido (9 instrucciones)\n",
    "* se incrementa `i` (1 instrucción)\n",
    "Como el número de iteraciones es igual al valor de `MAX`, al denotar esta cantidad por $N$ se deduce que todas las iteraciones de este ciclo requieren de $\\left(1 + 1 + 1 + 1 + 9 + 1\\right)N = 14N$ instrucciones en total.\n",
    "\n",
    "Posteriormente se imprime la cola ($6N + 5$ instrucciones), se imprime un mensaje (1 instrucción) y se realiza otro ciclo en el que primero se asigna 0 a `i` (1 instrucción) y después en cada una de las $N$ iteraciones:\n",
    "* se compara `i` con `MAX` (1 instrucción)\n",
    "* se accede al elemento `i` de `values` 2 veces (2 instrucciones)\n",
    "* se multiplica dicho valor por si mismo (1 instrucción)\n",
    "* se incrementa `i` (1 instrucción).\n",
    "En total las iteraciones de este ciclo requieren de $\\left(1 + 2 + 1 + 1\\right)N = 4N$ instrucciones.\n",
    "\n",
    "Para finalizar se vuelve a imprimir la cola lo cual toma $6N + 5$ instrucciones adicionales. Por lo tanto, sumando la cantidad de instrucciones realizadas en total el programa principal tiene una complejidad específica \n",
    "\\begin{equation}\n",
    "    \\O{9 + 14N + 6N + 5 + 2 + 4N + 6N + 5} = \\O{30N + 21}.\n",
    "\\end{equation}\n",
    "\n",
    "\n",
    "### Complejidad general\n",
    "\n",
    "Como la comlejidad específica varía linealmente con el tamaño máximo $N$ de la cola, su notación general se puede obtener considerando el término dominante (el lineal) e ignorando los coeficientes\n",
    "\\begin{equation}\n",
    "    \\O{N}.\n",
    "\\end{equation}"
   ]
  },
  {
   "cell_type": "markdown",
   "id": "6c497231",
   "metadata": {},
   "source": [
    "# Lista Ligada"
   ]
  },
  {
   "cell_type": "code",
   "execution_count": 20,
   "id": "25f546f8",
   "metadata": {},
   "outputs": [],
   "source": [
    "typedef struct node {\n",
    "    int value;\n",
    "    struct node* next;\n",
    "} node;"
   ]
  },
  {
   "cell_type": "markdown",
   "id": "c4c1fee6",
   "metadata": {},
   "source": [
    "## Constructor"
   ]
  },
  {
   "cell_type": "code",
   "execution_count": 21,
   "id": "d3405d7b",
   "metadata": {},
   "outputs": [],
   "source": [
    "struct node* List() {\n",
    "    return NULL;\n",
    "}"
   ]
  },
  {
   "cell_type": "markdown",
   "id": "976e2eea",
   "metadata": {},
   "source": [
    "### Complejidad específica\n",
    "\n",
    "El constructor simplemente regresa el apuntador `NULL`, lo cual toma únicamente 1 instrucción, por lo tanto la complejidad específica de este algoritmo es \n",
    "\\begin{equation}\n",
    "    \\O{1}.\n",
    "\\end{equation}\n",
    "\n",
    "### Complejidad general\n",
    "\n",
    "Como la complejidad específica es constante (pues ni siquiera requiere de una entrada), la complejidad general es \n",
    "\\begin{equation}\n",
    "    \\O{1}.\n",
    "\\end{equation}"
   ]
  },
  {
   "cell_type": "markdown",
   "id": "87292d27",
   "metadata": {},
   "source": [
    "## Checar si la lista está vacía"
   ]
  },
  {
   "cell_type": "code",
   "execution_count": 22,
   "id": "11753156",
   "metadata": {},
   "outputs": [],
   "source": [
    "short listIsEmpty(struct node* head) {\n",
    "    return head == NULL ? 1 : 0;\n",
    "}"
   ]
  },
  {
   "cell_type": "markdown",
   "id": "db76fa38",
   "metadata": {},
   "source": [
    "### Complejidad específica\n",
    "\n",
    "Para checar si la lista está vacía se compara el elemento `head` contra `NULL` y se da un valor de retorno con el operador ternario, como en total se realizan 2 instrucciones la complejidad específica de este algoritmo es\n",
    "\\begin{equation}\n",
    "    \\O{2}.\n",
    "\\end{equation}\n",
    "\n",
    "### Complejidad general\n",
    "\n",
    "Como el número de pasos es independiente al tamaño de la entrada, este es un algoritmo constante; por lo tanto su notación en complejidad general es\n",
    "\\begin{equation}\n",
    "    \\O{1}.\n",
    "\\end{equation}"
   ]
  },
  {
   "cell_type": "markdown",
   "id": "20dc9076",
   "metadata": {},
   "source": [
    "## Calcular longitud de la lista"
   ]
  },
  {
   "cell_type": "code",
   "execution_count": 23,
   "id": "c3605de8",
   "metadata": {},
   "outputs": [],
   "source": [
    "int listLength(struct node* head) {\n",
    "    struct node* temp;\n",
    "    int length = 0;\n",
    "    for (temp = head; temp != NULL; temp = temp -> next)\n",
    "        ++length;\n",
    "    return length;\n",
    "}"
   ]
  },
  {
   "cell_type": "markdown",
   "id": "c17053e3",
   "metadata": {},
   "source": [
    "### Complejidad específica\n",
    "\n",
    "Calcular el tamaño de la lista requiere primero crear un apuntador a nodo `temp` (1 instrucción), crear una instancia `length` de un entero y asignarle el valor de 0 (2 instrucciones), después se asigna el valor de `head` a `temp` (1 instrucción) y a manera de ciclo, en cada iteración\n",
    "* se compara `temp` contra `NULL` (1 instrucción)\n",
    "* se incrementa el valor de `length` (1 instrucción)\n",
    "* se accede al elemento `next` de `temp` y se almacena este valor en `temp` (2 instrucciones)\n",
    "\n",
    "Para que el ciclo termine, se debe recorrer toda la lista, ya que el último elemento es el que apunta a `NULL`, por lo tanto considerando el peor escenario, en el que se tiene una lista no vacía de tamaño $n$, todas las iteraciones necesitan un total de \n",
    "\\begin{equation}\n",
    "    \\left(1 + 1 + 2\\right)n = 4n\n",
    "\\end{equation}\n",
    "instrucciones. Para que el algoritmo finalice se requiere una instrucción adicional en la que se regresa el valor de la longitud.\n",
    "\n",
    "Sumando todas las instrucciones requeridas para que el algoritmo finalice, se deduce que la complejidad específica es\n",
    "\\begin{equation}\n",
    "    \\O{1 + 2 + 1 + 4n + 1} = \\O{4n + 5}.\n",
    "\\end{equation}\n",
    "\n",
    "### Complejidad general\n",
    "\n",
    "Como se demostró previamente, la cantidad de pasos incrementa que requiere el algoritmo incrementa linealmente con el tamaño la lista, por lo tanto su complejidad general, es\n",
    "\\begin{equation}\n",
    "    \\O{n}.\n",
    "\\end{equation}"
   ]
  },
  {
   "cell_type": "markdown",
   "id": "10bdf6e7",
   "metadata": {},
   "source": [
    "## Insertar al final"
   ]
  },
  {
   "cell_type": "code",
   "execution_count": 24,
   "id": "142fbd4d",
   "metadata": {},
   "outputs": [],
   "source": [
    "void insertBack(struct node** head, int x) {\n",
    "    struct node* element;\n",
    "    element = (struct node*) malloc(sizeof(struct node));\n",
    "    if (element == NULL) {\n",
    "        printf(\"No memory\\n\");\n",
    "        return;\n",
    "    }\n",
    "    if (listIsEmpty(*head)) {\n",
    "        element -> value = x;\n",
    "        element -> next = *head;\n",
    "        *head = element;\n",
    "        return;\n",
    "    }\n",
    "    struct node* temp = *head;\n",
    "    while (temp -> next != NULL)\n",
    "        temp = temp -> next;\n",
    "\n",
    "    element -> value = x;\n",
    "    element -> next = NULL;\n",
    "    temp -> next = element;\n",
    "}"
   ]
  },
  {
   "cell_type": "markdown",
   "id": "f9626a3c",
   "metadata": {},
   "source": [
    "### Complejidad específica\n",
    "\n",
    "Esta función primero crea una instancia de un apuntador a `node` (1 instrucción), después se le asigna memoria de forma dinámica ($\\lg M + 1$ instrucciones), posteriormente se checa que `malloc` nos haya regresado una dirección válida y para ello se compara con `NULL`, lo cual toma 1 instrucción. En el peor de los casos no se ejecuta el `if` ya que solo se necesitaría imprimir un mensaje y ejecutar el `return`, en cambio, de no ser así se checa si la lista está vacía (2 instrucciones) y nuevamente en el peor escenario no se ejecuta el `if` ya que para insertar al final en una lista esta se tiene que recorrer en el peor escenario y una lista no vacía resulta ser peor.\n",
    "\n",
    "Posteriormente, se crea una instancia `temp` de un apuntador a nodo, se obtiene la dirección de memoria del inicio de la lista y se asigna su valor a `temp` (3 instrucciones). Después a manera de ciclo:\n",
    "* se accede al elemento `next` de `temp` y se compara con `NULL` (2 instrucciones)\n",
    "* se accede nuevamente al elemento `next` de `temp` y se asigna su valor a `temp` (2 instrucciones)\n",
    "esto se hace por cada elemento en la lista, por lo tanto, para una lista de tamaño $n$ las iteraciones requieren un total de $\\left(2+2\\right)n = 4n$ instrucciones.\n",
    "\n",
    "Finalmente, se accede a `value` en el apuntador `element` y se le asigna el valor de `x` (2 instrucciones), posteriormente se accede a `next` en el apuntador `element` y se asigna su valor a `NULL` (2 instrucciones) y el algoritmo concluye accediendo al elemento `next` de `temp` y asignando su valor con la dirección `element` (2 instrucciones). Sumando todas las instrucciones, se deduce que la complejidad específica del algoritmo es\n",
    "\\begin{equation}\n",
    "    \\O{1 + \\lg M + 1 + 1 + 2 + 3 + 4n + 2 + 2 + 2} = \\O{4n + \\lg M + 14}.\n",
    "\\end{equation}\n",
    "\n",
    "### Complejidad general\n",
    "\n",
    "Para evaluar la complejidad general, debido a que el tamaño de la memoria $M$ y el tamaño de la lista $n$ son generalmente distintos (aunque técnicamente el tamaño de la lista está acotado por la memoria), la complejidad general del algoritmo es\n",
    "\\begin{equation}\n",
    "    \\O{n + \\lg M}.\n",
    "\\end{equation}"
   ]
  },
  {
   "cell_type": "markdown",
   "id": "c9406933",
   "metadata": {},
   "source": [
    "## Insertar al frente"
   ]
  },
  {
   "cell_type": "code",
   "execution_count": 25,
   "id": "7ff1b2f1",
   "metadata": {},
   "outputs": [],
   "source": [
    "void insertFront(struct node** head, int x) {\n",
    "    struct node* element;\n",
    "    element = (struct node*) malloc(sizeof(struct node));\n",
    "    if (element == NULL) {\n",
    "        printf(\"No memory\\n\");\n",
    "        return;\n",
    "    }\n",
    "\n",
    "    element -> value = x;\n",
    "    element -> next = *head;\n",
    "    *head = element;\n",
    "}"
   ]
  },
  {
   "cell_type": "markdown",
   "id": "b96632da",
   "metadata": {},
   "source": [
    "### Complejidad específica\n",
    "\n",
    "La operación para insertar al frente, primero crea una instancia `element` de un apuntador a nodo (1 instrucción), después se utiliza `malloc` para apartar un espacio en memoria lo cual toma $\\lg M$ instrucciones y se asigna esta dirección a `element` (1 instrucción). Posteriormente se checa que la dirección sea válida, para verificar que todavía hay memoria, lo cual toma 1 instrucción. En el peor escenario hay memoria disponible, ya que el algoritmo tiene que acceder a `value` usando el operador `->` y le asigna el valor de `x` (2 instrucciones), después se accede a `next` con el operador `->`, se obtiene la dirección de memoria del inicio de la lista y se asigna su valor a `next` (3 instrucciones). Finalmente el algoritmo finaliza aplicando el operador de desreferencia (`*`) a `head` que es un apuntador a un apuntador y asignando la dirección `element` como el inicio de la lista (2 instrucciones). Sumando todas las instrucciones básicas se deduce que la complejidad específica es\n",
    "\\begin{equation}\n",
    "    \\O{1 + \\ lg M + 1 + 1 + 2 + 3 + 2} = \\O{\\lg M + 10}.\n",
    "\\end{equation}\n",
    "\n",
    "### Complejidad general\n",
    "\n",
    "Como esta función solo crece logaritmicamente con el tamaño de la memoria $M$, la complejidad general se puede obtener considerando el término logarítmico (que es el dominante) e ignorando los coeficientes y constantes\n",
    "\\begin{equation}\n",
    "    \\O{\\lg M}.\n",
    "\\end{equation}"
   ]
  },
  {
   "cell_type": "markdown",
   "id": "d9bd6841",
   "metadata": {},
   "source": [
    "## Eliminar elemento"
   ]
  },
  {
   "cell_type": "code",
   "execution_count": 26,
   "id": "ada12e29",
   "metadata": {},
   "outputs": [],
   "source": [
    "void deleteItem(struct node** head, int x) {\n",
    "    if (listIsEmpty(*head)) {\n",
    "        printf(\"Cannot delete from empty list!\\n\");\n",
    "        return;\n",
    "    }\n",
    "    struct node* current = NULL;\n",
    "    struct node* prev = NULL;\n",
    "    struct node* temp;\n",
    "\n",
    "    for (current = *head; current != NULL; current = current -> next) {\n",
    "        if (current -> value == x) {\n",
    "            temp = current;\n",
    "\n",
    "            if(prev == NULL) {\n",
    "                *head = current -> next;\n",
    "                free(temp);\n",
    "                return;\n",
    "            }\n",
    "\n",
    "            prev -> next = current -> next;\n",
    "            free(temp);\n",
    "            return;\n",
    "        }\n",
    "        prev = current;\n",
    "    }\n",
    "    printf(\"Item not found in list\\n\");\n",
    "}"
   ]
  },
  {
   "cell_type": "markdown",
   "id": "3abdd401",
   "metadata": {},
   "source": [
    "### Complejidad específica\n",
    "\n",
    "Este algoritmo comienza obteniendo la dirección del inicio de la lista (`*head`) y checando si la lista está vácia (3 instrucciones), en el peor escenario la lista no está vacía (ya que entonces se tiene que buscar el valor a eliminar) y el algoritmo continúa creando una instancia `current` de apuntador a nodo y asignando `NULL` como su valor (2 instrucciones), se crea otra instancia `prev` de apuntador a nodo y se asigna `NULL` como su valor (2 instrucciones) y se crea una instancia más `temp` de apuntador a nodo (1 instrución).\n",
    "\n",
    "Después se tiene un ciclo `for` que inicializa desreferenciando `head` y asignando este valor a `current` (2 instrucciones), después por cada iteración:\n",
    "* se compara el valor de `current` con `NULL` (1 instrucción)\n",
    "* se accede al elemento `value` de `current` y se compara con `x` (2 instrucciones)\n",
    "    * si la comparación da un resultado verdadero, se asigna el valor de `current` a `temp` (1 instrucción)\n",
    "    * se compara `prev` con `NULL` usando el operador de igualdad (1 instrucción)\n",
    "    * en el peor escenario `prev` no es `NULL` ya que se debería recorrer la lista, por lo que se actualiza el siguiente elemento de `prev` con el siguiente valor de `current`, sumando los accesos y la asignación esto requiere de 3 isntrucciones\n",
    "    * se libera memoria con `free` (1 instrucción)\n",
    "    * se concluye la función con un `return` (1 instrucción)\n",
    "* se asigna el valor de `current` a `prev` (1 instrucción)\n",
    "* se accede a `next` con el operador `->` y se asigna su valor a `current` (2 instrucciones)\n",
    "\n",
    "En el peor escenario, se tiene una lista de tamaño $n$ y se desea eliminar el último elemento (esto es peor a que no se encuentre, ya que solo imprimir un mensaje adicional toma menos pasos). Esto implica que las primeras instrucciones se realicen $n$ veces, y la condición se cumpla en la última iteración. Finalmente, como hay un `return` en el `if` las últimas 2 operaciones (el incremento de `prev` y `current`) se realizan $n-1$ veces. Resumiendo lo anterior todas las iteraciones requieren un total de\n",
    "\\begin{equation}\n",
    "    \\left(1+2\\right)n + 1 + 1 + 3 + 1 + 1 + \\left(1 + 2\\right)(n-1) = 6n + 4 \n",
    "\\end{equation}\n",
    "instrucciones básicas. Entonces, sumando las instrucciones previas a esta cantidad, la complejidad específica de la eliminación es\n",
    "\\begin{equation}\n",
    "    \\O{3 + 2 + 2 + 1 + 2 + 6n + 4} = \\O{6n + 14}.\n",
    "\\end{equation}\n",
    "\n",
    "### Complejidad general\n",
    "\n",
    "Una vez conocida la complejidad específica, como esta varía linealmente con el tamaño de la lista $n$, su complejidad general se deduce considerando el término lineal e ignorando el coeficiente\n",
    "\\begin{equation}\n",
    "    \\O{n}.\n",
    "\\end{equation}"
   ]
  },
  {
   "cell_type": "markdown",
   "id": "8aae7c7c",
   "metadata": {},
   "source": [
    "## Imprimir"
   ]
  },
  {
   "cell_type": "code",
   "execution_count": 27,
   "id": "8889fdd0",
   "metadata": {},
   "outputs": [],
   "source": [
    "void printList(struct node* head) {\n",
    "    struct node* temp;\n",
    "\n",
    "    for (temp = head; temp != NULL; temp = temp -> next)\n",
    "        printf(\"%i -> \", temp -> value);\n",
    "    printf(\"// \\n\");\n",
    "}"
   ]
  },
  {
   "cell_type": "markdown",
   "id": "221a891f",
   "metadata": {},
   "source": [
    "### Complejidad específica\n",
    "\n",
    "En esta función primero se crea una instancia (`temp`) de apuntador a nodo (1 instrucción) y después la inicialización del ciclo `for` asigna el valor de `head` a `temp` (1 instrucción) y por cada iteración:\n",
    "* se compara `temp` contra `NULL` mediante la igualdad (1 instrucción)\n",
    "* se accede al elemento siguente y se asigna su valor a `temp` (2 instrucciones)\n",
    "* se accede al elemento `value` y se imprime (2 instrucciones)\n",
    "como en el peor escenario se debe recorrer una lista de tamaño $n$ para imprimir cada elemento, se realizan $n$ iteraciones de este ciclo, las cuales ejecutan $(1 + 2 + 2)n = 5n$ instrucciones básicas.\n",
    "\n",
    "Finalmente, el algoritmo finaliza imprimiendo una cadena (1 instrucción), por lo tanto sumando todas las instrucciones realizadas, en el peor escenario la complejidad específica del algoritmo es\n",
    "\\begin{equation}\n",
    "    \\O{1 + 1 + 5n + 1} = \\O{5n + 3}.\n",
    "\\end{equation}\n",
    "\n",
    "### Complejidad general\n",
    "\n",
    "Como la cantidad de pasos crece linealmente con el tamaño de la entrada, la complejidad general del algoritmo es\n",
    "\\begin{equation}\n",
    "    \\O{n}.\n",
    "\\end{equation}"
   ]
  },
  {
   "cell_type": "markdown",
   "id": "c68ed2ca",
   "metadata": {},
   "source": [
    "## Buscar ocurrencias"
   ]
  },
  {
   "cell_type": "code",
   "execution_count": 28,
   "id": "6c17ffcd",
   "metadata": {},
   "outputs": [],
   "source": [
    "void findOccurrences(struct node* head, int x) {\n",
    "    if (listIsEmpty(head)) {\n",
    "        printf(\"List is empty: No occurences\\n\");\n",
    "        return;\n",
    "    }\n",
    "\n",
    "    int counter = 0;\n",
    "    int position = 0;\n",
    "    struct node* temp;\n",
    "    printf(\"%i was found in the following positions: \\n[\", x);\n",
    "\n",
    "    for (temp = head; temp != NULL; temp = temp -> next) {\n",
    "        if (temp -> value == x) {\n",
    "            if (counter > 0)\n",
    "                printf(\", \");\n",
    "            printf(\"%i\", position);\n",
    "            counter++;\n",
    "        }\n",
    "        position++;\n",
    "    }\n",
    "    printf(\"]\\nTherefore it is repeated %i time(s)\\n\", counter);  \n",
    "}"
   ]
  },
  {
   "cell_type": "markdown",
   "id": "e71b612d",
   "metadata": {},
   "source": [
    "### Complejidad específica\n",
    "\n",
    "Esta función comienza checando si la lista está vacía (2 instrucciones) y en el peor escenario no está vacía y tiene un tamaño $n$ ya que buscar ocurrencias implica recorrer la lista. Siguiendo con el peor escenario, el programa crea una instancia `counter` de un entero y le asigna el valor de 0 (2 instrucciones), después crea otra instancia `position` de entero y nuevamente le asigna el valor de 0 (2 instrucciones). Posteriormente \n",
    "se crea un apuntador a nodo (`temp`) y se imprime un mensaje (2 instrucciones). Al llegar al ciclo `for`, su inicialización requiere asignar el valor de `head` a `temp` (1 instrucción) y por cada iteración:\n",
    "* se compara `temp != NULL` (1 instrucción)\n",
    "* se accede al elemento `value` de `temp` y se compara su valor con `x` (2 instrucciones)\n",
    "    * Si se cumple la igualdad se checa que el contador sea mayor a 0 (1 instrucción)\n",
    "    * Si `counter > 0` se imprime una coma (1 instrucción)\n",
    "    * Después se imprime un número, que es la posición en la lista (1 instrucción)\n",
    "    * Se incrementa el contador (1 instrucción)\n",
    "* se incrementa `position` (1 instrucción)\n",
    "* se accede al elemento siguiente (`next`) y se asigna su valor a `temp` (2 instrucciones)\n",
    "\n",
    "Considerando el programa en el peor escenario se tiene que recorrer la lista y todas las instancias son el valor buscado, por lo que se tienen que imprimir. La condición de que el contador sea mayor a 0 entonces se cumplirá en todas las iteraciones menos la primera (por lo que este se realiza $n-1$ veces). Entonces por cada uno de los $n$ valores de la lista, las iteraciones requieren un total de \n",
    "\\begin{equation}\n",
    "    \\left(1 + 2 + 1\\right)n + n - 1 + \\left(1 + 1 + 1 + 2\\right)n = 10n - 1 \n",
    "\\end{equation}\n",
    "instrucciones en el peor escenario.\n",
    "\n",
    "El algoritmo finaliza realizando una instrucción más para imprimir un mensaje. Por lo tanto, sumando todas las instrucciones esta función tiene una complejidad específica\n",
    "\\begin{equation}\n",
    "    \\O{2 + 2 + 2 + 2 + 1 + 10n - 1 + 1} = \\O{10n + 9}.\n",
    "\\end{equation}\n",
    "\n",
    "### Complejidad general\n",
    "\n",
    "Para la complejidad general simplemente consideramos el orden de crecimiento, que es lineal en el tamaño de la entrada, y por lo tanto ignorando los coeficientes esta es\n",
    "\\begin{equation}\n",
    "    \\O{n}.\n",
    "\\end{equation}"
   ]
  },
  {
   "cell_type": "markdown",
   "id": "ba8dcb1c",
   "metadata": {},
   "source": [
    "## Eliminar elementos pares"
   ]
  },
  {
   "cell_type": "code",
   "execution_count": 29,
   "id": "e5e25500",
   "metadata": {},
   "outputs": [],
   "source": [
    "void deleteEven(struct node** head) {\n",
    "    if (listIsEmpty(*head)) {\n",
    "        printf(\"List is empty: No items to delete\\n\");\n",
    "        return;\n",
    "    }\n",
    "\n",
    "    struct node* current = *head;\n",
    "    struct node* prev = NULL;\n",
    "\n",
    "    while (current != NULL) {\n",
    "        if (current -> value % 2) {\n",
    "            prev = current;\n",
    "            current = current -> next;\n",
    "        } \n",
    "        else {\n",
    "            struct node* temp = current;\n",
    "            if (prev == NULL) {\n",
    "                *head = (*head) -> next;\n",
    "                current = *head;\n",
    "                free(temp);\n",
    "            }\n",
    "            else {\n",
    "                prev -> next = current -> next;\n",
    "                current = current -> next;\n",
    "                free(temp);\n",
    "            }\n",
    "        }\n",
    "    }\n",
    "}"
   ]
  },
  {
   "cell_type": "markdown",
   "id": "026b6fa4",
   "metadata": {},
   "source": [
    "### Complejidad específica\n",
    "\n",
    "\n",
    "\n",
    "### Complejidad general"
   ]
  },
  {
   "cell_type": "markdown",
   "id": "cb5a584d",
   "metadata": {},
   "source": [
    "## Calcular promedio"
   ]
  },
  {
   "cell_type": "code",
   "execution_count": 30,
   "id": "cc14f58e",
   "metadata": {},
   "outputs": [],
   "source": [
    "float average(struct node* head) {\n",
    "    if (listIsEmpty(head)) {\n",
    "        printf(\"Empty list: Average is not well defined.\\n\");\n",
    "        return 0;\n",
    "    }\n",
    "    int sum = 0;\n",
    "    int n = 0;\n",
    "    struct node* temp;\n",
    "    for (temp = head; temp != NULL; temp = temp -> next){\n",
    "        sum += temp -> value;\n",
    "        n++;\n",
    "    }\n",
    "    return (float) sum / n;\n",
    "}"
   ]
  },
  {
   "cell_type": "markdown",
   "id": "584c84bc",
   "metadata": {},
   "source": [
    "### Complejidad específica\n",
    "\n",
    "### Complejidad general"
   ]
  },
  {
   "cell_type": "markdown",
   "id": "d23a87fa",
   "metadata": {},
   "source": [
    "## Eliminar todas las ocurrencias de un valor"
   ]
  },
  {
   "cell_type": "code",
   "execution_count": 31,
   "id": "eabe7e5a",
   "metadata": {},
   "outputs": [],
   "source": [
    "void deleteOccurrences(struct node** head, int x) {\n",
    "    if (listIsEmpty(*head)) {\n",
    "        printf(\"List is empty: No items to delete\\n\");\n",
    "        return;\n",
    "    }\n",
    "\n",
    "    struct node* current = *head;\n",
    "    struct node* prev = NULL;\n",
    "\n",
    "    while (current != NULL) {\n",
    "        if (current -> value == x) {\n",
    "            struct node* temp = current;\n",
    "            if (prev == NULL) {\n",
    "                *head = (*head) -> next;\n",
    "                current = *head;\n",
    "                free(temp);\n",
    "            }\n",
    "            else {\n",
    "                prev -> next = current -> next;\n",
    "                current = current -> next;\n",
    "                free(temp);\n",
    "            }    \n",
    "        } \n",
    "        else {\n",
    "            prev = current;\n",
    "            current = current -> next;   \n",
    "        } \n",
    "    }\n",
    "}"
   ]
  },
  {
   "cell_type": "markdown",
   "id": "91ffc135",
   "metadata": {},
   "source": [
    "### Complejidad específica\n",
    "\n",
    "### Complejidad general"
   ]
  },
  {
   "cell_type": "markdown",
   "id": "cbcb4cd6",
   "metadata": {},
   "source": [
    "## Destructor"
   ]
  },
  {
   "cell_type": "code",
   "execution_count": 32,
   "id": "c6936388",
   "metadata": {},
   "outputs": [],
   "source": [
    "void deleteList(struct node** head) {\n",
    "    if (listIsEmpty(*head))\n",
    "        return;\n",
    "\n",
    "    struct node* current = *head;\n",
    "    while (current != NULL) {\n",
    "        struct node* next = current -> next;\n",
    "        free(current);\n",
    "        current = next;\n",
    "    }\n",
    "    *head = NULL;\n",
    "}"
   ]
  },
  {
   "cell_type": "markdown",
   "id": "5f930343",
   "metadata": {},
   "source": [
    "### Complejidad específica\n",
    "\n",
    "### Complejidad general"
   ]
  },
  {
   "cell_type": "markdown",
   "id": "a9cccbea",
   "metadata": {},
   "source": [
    "## Programa principal"
   ]
  },
  {
   "cell_type": "code",
   "execution_count": 33,
   "id": "d9880cce",
   "metadata": {},
   "outputs": [
    {
     "name": "stdout",
     "output_type": "stream",
     "text": [
      "Randomly generated list:\n",
      "1 -> 4 -> 6 -> 7 -> 0 -> 5 -> 5 -> 0 -> 8 -> 0 -> 4 -> 8 -> 4 -> 9 -> 7 -> // \n",
      "\n",
      "Choose a number to insert at the beginning: 2\n",
      "2 -> 1 -> 4 -> 6 -> 7 -> 0 -> 5 -> 5 -> 0 -> 8 -> 0 -> 4 -> 8 -> 4 -> 9 -> 7 -> // \n",
      "\n",
      "Choose a number to find the number of times it is repeated in the list: 4\n",
      "4 was found in the following positions: \n",
      "[2, 11, 13]\n",
      "Therefore it is repeated 3 time(s)\n",
      "\n",
      "Delete even numbers from list:\n",
      "1 -> 7 -> 5 -> 5 -> 9 -> 7 -> // \n",
      "\n",
      "Find average:\n",
      "Average = 5.666667\n",
      "\n",
      "Choose a number to delete all its occurrences in the list: 5\n",
      "1 -> 7 -> 9 -> 7 -> // \n"
     ]
    }
   ],
   "source": [
    "srand(time(NULL));\n",
    "struct node* head = List();\n",
    "int input;\n",
    "\n",
    "for (int i=0; i<15; ++i){\n",
    "    insertFront(&head, rand() % 10);\n",
    "}\n",
    "printf(\"Randomly generated list:\\n\");\n",
    "printList(head);\n",
    "\n",
    "printf(\"\\nChoose a number to insert at the beginning: \");\n",
    "scanf(\"%i\", &input);\n",
    "std::cin >> input;\n",
    "insertFront(&head, input);\n",
    "printList(head);\n",
    "\n",
    "printf(\"\\nChoose a number to find the number of times it is repeated in the list: \");\n",
    "scanf(\"%i\", &input);\n",
    "std::cin >> input;\n",
    "findOccurrences(head, input);\n",
    "\n",
    "printf(\"\\nDelete even numbers from list:\\n\");\n",
    "deleteEven(&head);\n",
    "printList(head);\n",
    "\n",
    "printf(\"\\nFind average:\\n\");\n",
    "printf(\"Average = %f\\n\", average(head));\n",
    "\n",
    "printf(\"\\nChoose a number to delete all its occurrences in the list: \");\n",
    "scanf(\"%i\", &input);\n",
    "std::cin >> input;\n",
    "deleteOccurrences(&head, input);\n",
    "printList(head);\n",
    "\n",
    "// Free every node from memory\n",
    "deleteList(&head);"
   ]
  },
  {
   "cell_type": "markdown",
   "id": "fbae1fa4",
   "metadata": {},
   "source": [
    "### Complejidad específica\n",
    "\n",
    "### Complejidad general"
   ]
  },
  {
   "cell_type": "markdown",
   "id": "f5cf8c38",
   "metadata": {},
   "source": [
    "# Árbol Binario"
   ]
  },
  {
   "cell_type": "code",
   "execution_count": 34,
   "id": "943bb71c",
   "metadata": {},
   "outputs": [],
   "source": [
    "typedef struct vertex {\n",
    "    int value;\n",
    "    struct vertex* left;\n",
    "    struct vertex* right;\n",
    "} vertex;"
   ]
  },
  {
   "cell_type": "markdown",
   "id": "8ba4a7d6",
   "metadata": {},
   "source": [
    "##  Constructor"
   ]
  },
  {
   "cell_type": "code",
   "execution_count": 35,
   "id": "294e1a88",
   "metadata": {},
   "outputs": [],
   "source": [
    "vertex* Tree() {\n",
    "    return NULL;\n",
    "}"
   ]
  },
  {
   "cell_type": "markdown",
   "id": "bc44dd06",
   "metadata": {},
   "source": [
    "### Complejidad específica\n",
    "\n",
    "### Complejidad general"
   ]
  },
  {
   "cell_type": "markdown",
   "id": "d49fe05c",
   "metadata": {},
   "source": [
    "## Insertar nodo"
   ]
  },
  {
   "cell_type": "code",
   "execution_count": 36,
   "id": "4834cd9e",
   "metadata": {},
   "outputs": [],
   "source": [
    "void insertVertex(vertex** root, int x) {\n",
    "    vertex* element = (vertex*) malloc(sizeof(vertex));\n",
    "    if (element == NULL) {\n",
    "        printf(\"Error: No memory\\n\");\n",
    "        return;\n",
    "    }\n",
    "\n",
    "    element -> value = x;\n",
    "    element -> left = element -> right = NULL;\n",
    "\n",
    "    if ((*root) == NULL)\n",
    "        *root = element;\n",
    "    else {\n",
    "        vertex* prev = NULL;\n",
    "        vertex* current = *root;\n",
    "\n",
    "        while (current != NULL) {\n",
    "            prev = current;\n",
    "            x < (current -> value) ? (current = current -> left) : (current = current -> right);\n",
    "        }\n",
    "\n",
    "        x < (prev -> value) ? (prev -> left = element) : (prev -> right = element);\n",
    "    }\n",
    "\n",
    "    printf(\"Inserted: %i\\n\", x);\n",
    "}"
   ]
  },
  {
   "cell_type": "markdown",
   "id": "f79df649",
   "metadata": {},
   "source": [
    "### Complejidad específica\n",
    "\n",
    "### Complejidad general"
   ]
  },
  {
   "cell_type": "markdown",
   "id": "76165448",
   "metadata": {},
   "source": [
    "## Destructor"
   ]
  },
  {
   "cell_type": "code",
   "execution_count": 37,
   "id": "2247177b",
   "metadata": {},
   "outputs": [],
   "source": [
    "void deleteSubTree(vertex** root, vertex* element) {\n",
    "    if (element != NULL) {\n",
    "        deleteSubTree(root, element -> left);\n",
    "        deleteSubTree(root, element -> right);\n",
    "        if (element == *root) {\n",
    "            *root = NULL;\n",
    "        }\n",
    "        free(element);\n",
    "    }\n",
    "}"
   ]
  },
  {
   "cell_type": "markdown",
   "id": "e9ceaee9",
   "metadata": {},
   "source": [
    "### Complejidad específica\n",
    "\n",
    "### Complejidad general"
   ]
  },
  {
   "cell_type": "markdown",
   "id": "a848ff4a",
   "metadata": {},
   "source": [
    "## Recorrido pre-order"
   ]
  },
  {
   "cell_type": "code",
   "execution_count": 38,
   "id": "fb94037d",
   "metadata": {},
   "outputs": [],
   "source": [
    "void preOrderTraversal(vertex* v) {\n",
    "    if (v != NULL) {\n",
    "        printf(\"%i\\t\", v -> value);\n",
    "        preOrderTraversal(v -> left);\n",
    "        preOrderTraversal(v -> right);\n",
    "    }\n",
    "}"
   ]
  },
  {
   "cell_type": "markdown",
   "id": "8de6b6d1",
   "metadata": {},
   "source": [
    "### Complejidad específica\n",
    "\n",
    "### Complejidad general"
   ]
  },
  {
   "cell_type": "markdown",
   "id": "f93e1ace",
   "metadata": {},
   "source": [
    "## Recorrido in-order"
   ]
  },
  {
   "cell_type": "code",
   "execution_count": 39,
   "id": "c72b1f52",
   "metadata": {},
   "outputs": [],
   "source": [
    "void inOrderTraversal(vertex* v) {\n",
    "    if (v != NULL) {\n",
    "        inOrderTraversal(v -> left);\n",
    "        printf(\"%i\\t\", v -> value);\n",
    "        inOrderTraversal(v -> right);\n",
    "    }\n",
    "}"
   ]
  },
  {
   "cell_type": "markdown",
   "id": "ed2e20de",
   "metadata": {},
   "source": [
    "### Complejidad específica\n",
    "\n",
    "### Complejidad general"
   ]
  },
  {
   "cell_type": "markdown",
   "id": "3707b1b6",
   "metadata": {},
   "source": [
    "## Recorrido post-order"
   ]
  },
  {
   "cell_type": "code",
   "execution_count": 40,
   "id": "9f75ece3",
   "metadata": {},
   "outputs": [],
   "source": [
    "void postOrderTraversal(vertex* v) {\n",
    "    if (v != NULL) {\n",
    "        postOrderTraversal(v -> left);\n",
    "        postOrderTraversal(v -> right);\n",
    "        printf(\"%i\\t\", v -> value);\n",
    "    }\n",
    "}"
   ]
  },
  {
   "cell_type": "markdown",
   "id": "8b215059",
   "metadata": {},
   "source": [
    "### Complejidad específica\n",
    "\n",
    "### Complejidad general"
   ]
  },
  {
   "cell_type": "markdown",
   "id": "6395841c",
   "metadata": {},
   "source": [
    "## Encontrar mínimo"
   ]
  },
  {
   "cell_type": "code",
   "execution_count": 41,
   "id": "29d54be3",
   "metadata": {},
   "outputs": [],
   "source": [
    "vertex* minNode(vertex* element) {\n",
    "    vertex* current = element;\n",
    "\n",
    "    if (current == NULL) {\n",
    "        return NULL;\n",
    "    }\n",
    "\n",
    "    while (current -> left)\n",
    "        current = current -> left;\n",
    "    \n",
    "    return current;\n",
    "}"
   ]
  },
  {
   "cell_type": "markdown",
   "id": "f7207397",
   "metadata": {},
   "source": [
    "### Complejidad específica\n",
    "\n",
    "### Complejidad general"
   ]
  },
  {
   "cell_type": "markdown",
   "id": "8a83f703",
   "metadata": {},
   "source": [
    "## Eliminar nodo"
   ]
  },
  {
   "cell_type": "code",
   "execution_count": 42,
   "id": "85ed6102",
   "metadata": {},
   "outputs": [],
   "source": [
    "vertex* deleteVertex(vertex** v, int x) {\n",
    "    if (*v == NULL)\n",
    "        return *v;\n",
    "    \n",
    "    if (x < (*v) -> value)\n",
    "        (*v) -> left = deleteVertex(&(*v) -> left, x);\n",
    "    \n",
    "    else if (x > (*v) -> value)\n",
    "        (*v) -> right = deleteVertex(&(*v) -> right, x);\n",
    "    \n",
    "    else {\n",
    "        if ((*v) -> left == NULL) {\n",
    "            vertex* temp = (*v) -> right;\n",
    "            free(*v);\n",
    "            *v = NULL;\n",
    "            return temp;\n",
    "        }\n",
    "\n",
    "        else if ((*v) -> right == NULL) {\n",
    "            vertex* temp = (*v) -> left;\n",
    "            free(*v);\n",
    "            *v = NULL;\n",
    "            return temp;\n",
    "        }\n",
    "\n",
    "        vertex* temp = minNode((*v) -> right);\n",
    "        (*v) -> value = temp -> value;\n",
    "        (*v) -> right = deleteVertex(&(*v) -> right, temp -> value);\n",
    "    }\n",
    "    return *v;\n",
    "}"
   ]
  },
  {
   "cell_type": "markdown",
   "id": "8ab37182",
   "metadata": {},
   "source": [
    "### Complejidad específica\n",
    "\n",
    "### Complejidad general"
   ]
  },
  {
   "cell_type": "markdown",
   "id": "b3c0289a",
   "metadata": {},
   "source": [
    "## Calcular tamaño"
   ]
  },
  {
   "cell_type": "code",
   "execution_count": 43,
   "id": "fe47212d",
   "metadata": {},
   "outputs": [],
   "source": [
    "int size(vertex* root) {\n",
    "    int i = 0;\n",
    "    if (root) {\n",
    "        i++;\n",
    "        i += size(root -> left);\n",
    "        i += size(root -> right);\n",
    "    }\n",
    "    return i;\n",
    "}"
   ]
  },
  {
   "cell_type": "markdown",
   "id": "36fe7920",
   "metadata": {},
   "source": [
    "### Complejidad específica\n",
    "\n",
    "### Complejidad general"
   ]
  },
  {
   "cell_type": "markdown",
   "id": "0f098aad",
   "metadata": {},
   "source": [
    "## Sumar valores pares"
   ]
  },
  {
   "cell_type": "code",
   "execution_count": 44,
   "id": "ea131186",
   "metadata": {},
   "outputs": [],
   "source": [
    "int addEvenValues(vertex* v) {\n",
    "    int sum = 0;\n",
    "    if (v) {\n",
    "        if (v -> value % 2 == 0)\n",
    "            sum += v -> value;\n",
    "\n",
    "        sum += addEvenValues(v -> left);\n",
    "        sum += addEvenValues(v -> right);\n",
    "    }\n",
    "    return sum;\n",
    "}"
   ]
  },
  {
   "cell_type": "markdown",
   "id": "288a4d47",
   "metadata": {},
   "source": [
    "### Complejidad específica\n",
    "\n",
    "### Complejidad general"
   ]
  },
  {
   "cell_type": "markdown",
   "id": "17921693",
   "metadata": {},
   "source": [
    "## Sumar valores impares"
   ]
  },
  {
   "cell_type": "code",
   "execution_count": 45,
   "id": "4bc4a460",
   "metadata": {},
   "outputs": [],
   "source": [
    "int addOddValues(vertex* v) {\n",
    "    int sum = 0;\n",
    "    if (v) {\n",
    "        if (v -> value % 2 == 1)\n",
    "            sum += v -> value;\n",
    "\n",
    "        sum += addOddValues(v -> left);\n",
    "        sum += addOddValues(v -> right);\n",
    "    }\n",
    "    return sum;\n",
    "}"
   ]
  },
  {
   "cell_type": "markdown",
   "id": "5af241b1",
   "metadata": {},
   "source": [
    "### Complejidad específica\n",
    "\n",
    "### Complejidad general"
   ]
  },
  {
   "cell_type": "markdown",
   "id": "838ad983",
   "metadata": {},
   "source": [
    "## Imprimir hojas"
   ]
  },
  {
   "cell_type": "code",
   "execution_count": 46,
   "id": "868b38fc",
   "metadata": {},
   "outputs": [],
   "source": [
    "void printLeaves(vertex* v) {\n",
    "    if (v) {\n",
    "        printLeaves(v -> left);\n",
    "        if ((v -> left == NULL) && (v -> right == NULL)) {\n",
    "            printf(\"%i\\t\", v -> value);   \n",
    "        }\n",
    "        printLeaves(v -> right);\n",
    "    }\n",
    "}"
   ]
  },
  {
   "cell_type": "markdown",
   "id": "125e7fc7",
   "metadata": {},
   "source": [
    "### Complejidad específica\n",
    "\n",
    "### Complejidad general"
   ]
  },
  {
   "cell_type": "markdown",
   "id": "a7fb9bde",
   "metadata": {},
   "source": [
    "## Búsqueda en anchura"
   ]
  },
  {
   "cell_type": "markdown",
   "id": "ff815358",
   "metadata": {},
   "source": [
    "### Funciones auxilares (cola dinámica)"
   ]
  },
  {
   "cell_type": "markdown",
   "id": "c958fc60",
   "metadata": {},
   "source": [
    "## Programa principal"
   ]
  },
  {
   "cell_type": "code",
   "execution_count": 47,
   "id": "7d1d7d64",
   "metadata": {},
   "outputs": [
    {
     "name": "stdout",
     "output_type": "stream",
     "text": [
      "INSERTION\n",
      "Inserted: 50\n",
      "Inserted: 30\n",
      "Inserted: 15\n",
      "Inserted: 40\n",
      "Inserted: 77\n",
      "Inserted: 63\n",
      "Inserted: 80\n",
      "\n",
      "TREE SIZE\n",
      "7\n",
      "\n",
      "ADD EVEN VALUES\n",
      "200\n",
      "\n",
      "ADD ODD VALUES\n",
      "155\n",
      "\n",
      "PRINT LEAVES\n",
      "15\t40\t63\t80\t\n",
      "\n",
      "BREADTH FIRST SEARCH\n"
     ]
    }
   ],
   "source": [
    "vertex* root = Tree();\n",
    "\n",
    "printf(\"INSERTION\\n\");\n",
    "insertVertex(&root, 50);\n",
    "insertVertex(&root, 30);\n",
    "insertVertex(&root, 15);\n",
    "insertVertex(&root, 40);\n",
    "insertVertex(&root, 77);\n",
    "insertVertex(&root, 63);\n",
    "insertVertex(&root, 80);\n",
    "\n",
    "printf(\"\\nTREE SIZE\\n\");\n",
    "printf(\"%i\\n\", size(root));\n",
    "\n",
    "printf(\"\\nADD EVEN VALUES\\n\");\n",
    "printf(\"%i\\n\", addEvenValues(root));\n",
    "\n",
    "printf(\"\\nADD ODD VALUES\\n\");\n",
    "printf(\"%i\\n\", addOddValues(root));\n",
    "\n",
    "printf(\"\\nPRINT LEAVES\\n\");\n",
    "printLeaves(root);\n",
    "printf(\"\\n\");\n",
    "\n",
    "printf(\"\\nBREADTH FIRST SEARCH\\n\");\n",
    "//bfs(root);\n",
    "//printf(\"\\n\");\n",
    "\n",
    "deleteSubTree(&root, root);"
   ]
  },
  {
   "cell_type": "markdown",
   "id": "c299effc",
   "metadata": {},
   "source": [
    "### Complejidad específica\n",
    "\n",
    "### Complejidad general"
   ]
  }
 ],
 "metadata": {
  "kernelspec": {
   "display_name": "C++17",
   "language": "C++17",
   "name": "xcpp17"
  },
  "language_info": {
   "codemirror_mode": "text/x-c++src",
   "file_extension": ".cpp",
   "mimetype": "text/x-c++src",
   "name": "c++",
   "version": "17"
  }
 },
 "nbformat": 4,
 "nbformat_minor": 5
}
