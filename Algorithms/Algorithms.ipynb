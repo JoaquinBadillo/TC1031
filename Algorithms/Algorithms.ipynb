{
 "cells": [
  {
   "cell_type": "markdown",
   "id": "23c20d42",
   "metadata": {},
   "source": [
    "# Time Complexities of Basic Operations in Python"
   ]
  },
  {
   "cell_type": "markdown",
   "id": "9dedfc95",
   "metadata": {},
   "source": [
    "## Lists\n",
    "\n",
    "|    **Method**     | **Time Complexity** |\n",
    "|:-----------------:|:-------------------:|\n",
    "|     Append        |       $$O(1)$$      |\n",
    "|     Insert        |       $$O(n)$$      |\n",
    "| Access by index   |       $$O(1)$$      |\n",
    "|     Length        |       $$O(1)$$      |\n",
    "|Modify ith element |       $$O(1)$$      |\n",
    "|     Remove        |       $$O(n)$$      |\n",
    "|Pop specific index |       $$O(n)$$      |\n",
    "| Traverse/Iterate  |       $$O(n)$$      |\n",
    "|     Extend        |       $$O(k)$$      |"
   ]
  },
  {
   "cell_type": "markdown",
   "id": "9b40e4a2",
   "metadata": {},
   "source": [
    "## Tuple\n",
    "\n",
    "|    **Method**    | **Time Complexity** |\n",
    "|:----------------:|:-------------------:|\n",
    "| Access by index  |       $$O(1)$$      |\n",
    "|     Lenght       |       $$O(1)$$      |\n",
    "| Traverse/Iterate |       $$O(n)$$      |"
   ]
  },
  {
   "cell_type": "markdown",
   "id": "ef7d7ff1",
   "metadata": {},
   "source": [
    "## Dictionary\n",
    "\n",
    "|    **Method**     | **Time Complexity** |\n",
    "|:-----------------:|:-------------------:|\n",
    "|  Insert (d\\[k\\])  |       $$O(1)$$      |\n",
    "|  Access (d\\[k\\])  |       $$O(1)$$      |\n",
    "|     Length        |       $$O(1)$$      |\n",
    "|  Remove (del)     |       $$O(1)$$      |\n",
    "|  Get all keys     |       $$O(1)$$      |\n",
    "| Traverse/Iterate  |       $$O(n)$$      |"
   ]
  },
  {
   "cell_type": "markdown",
   "id": "19a4bd24",
   "metadata": {},
   "source": [
    "## Set\n",
    "|    **Method**         | **Time Complexity**  |\n",
    "|:---------------------:|:--------------------:|\n",
    "|    Insert (add)       |       $$O(1)$$      |\n",
    "| Elements (in / not in)|       $$O(1)$$      |\n",
    "|       Length          |       $$O(1)$$      |\n",
    "|   Remove (remove)     |       $$O(1)$$      |\n",
    "|    Get all keys       |       $$O(1)$$      |\n",
    "|  Traverse/Iterate     |       $$O(n)$$      |\n",
    "|        Union          |     $$O(n + m)$$    |\n",
    "|    Intersection       |    $$O(\\min(n,m))$$ |\n",
    "|      Difference       |       $$O(m)$$      |\n",
    "| Symmetric Difference  |       $$O(n)$$      |"
   ]
  }
 ],
 "metadata": {
  "kernelspec": {
   "display_name": "Python 3 (ipykernel)",
   "language": "python",
   "name": "python3"
  },
  "language_info": {
   "codemirror_mode": {
    "name": "ipython",
    "version": 3
   },
   "file_extension": ".py",
   "mimetype": "text/x-python",
   "name": "python",
   "nbconvert_exporter": "python",
   "pygments_lexer": "ipython3",
   "version": "3.10.6"
  }
 },
 "nbformat": 4,
 "nbformat_minor": 5
}
