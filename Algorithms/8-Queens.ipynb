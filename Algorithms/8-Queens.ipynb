{
 "cells": [
  {
   "cell_type": "markdown",
   "id": "3acc26c8",
   "metadata": {},
   "source": [
    "# The 8 Queens Problem\n",
    "\n",
    "Given an $8 \\times 8$ chess board, we want to find all the possible ways to fit 8 queens in it without them threatening each other (see the valid solution below). To solve this problem we are required to use 2 distinct algorithm design techniques: *Brute Force* and either *Divide & Conquer* or *Dynamic Programming*.\n",
    "\n",
    "**Valid solution:**\n",
    "\n",
    "|    |  A |  B |  C |  D |  E |  F |  G |  H |\n",
    "|:--:|:--:|:--:|:--:|:--:|:--:|:--:|:--:|:--:|\n",
    "|  8 | .  | .  | .  | .  | .  | ♛  | .  |  . |\n",
    "|  7 | .  | .  | .  | ♛  | .  | .  | .  |  . |\n",
    "|  6 | .  | .  | .  | .  | .  | .  | ♛  |  . |\n",
    "|  5 | ♛  | .  | .  | .  | .  | .  | .  |  . |\n",
    "|  4 | .  | .  | .  | .  | .  | .  | .  |  ♛ |\n",
    "|  3 | .  | ♛  | .  | .  | .  | .  | .  |  . |\n",
    "|  2 | .  | .  | .  | .  | ♛  | .  | .  |  . |\n",
    "|  1 | .  | .  | ♛  | .  | .  | .  | .  |  . |"
   ]
  },
  {
   "cell_type": "markdown",
   "id": "2281ae20",
   "metadata": {},
   "source": [
    "## Brute Force\n",
    "For the Brute Force solution we only need to find one valid configuration of the queens, thus we can use a randomized algorithm that places queens arbitrarly on the board (while avoiding it from placing queens on the same spot, something easy to implement with a hash set) until it finds a valid solution. ince we know the 8 queens problem has at least a valid solution, this algorithm should eventually converge to one of them (there are 92 possible solutions)."
   ]
  },
  {
   "cell_type": "code",
   "execution_count": null,
   "id": "a6536309",
   "metadata": {},
   "outputs": [],
   "source": []
  },
  {
   "cell_type": "markdown",
   "id": "d9c31880",
   "metadata": {},
   "source": [
    "## Dynamic Programming\n",
    "It is obvious that for this problem 2 queens cannot be placed in the same row or column, thus a simple divide and conquer approach could be to place queens on each column and memoize the row, so that we reduce the possibilities dramatically: \n",
    "    First we can put a queen on any of the 8 rows of the first column, then we only have 7 valid rows for the second column, 6 rows for the third, ... In general, we have $8 - i$ possibilities for column $i$. Using the multiplication principle, this means a dynamic programming approach has as little as $8!$ possibilities, which is a little bit more than 40,000 scenarios to check (a computer can check this really fast). To speed it up we could even use 8 threads so that each one uses a different initial row and append the results to a file so that we don't have to look for the solutions again."
   ]
  },
  {
   "cell_type": "code",
   "execution_count": null,
   "id": "733bc7df",
   "metadata": {},
   "outputs": [],
   "source": []
  }
 ],
 "metadata": {
  "kernelspec": {
   "display_name": "C++17",
   "language": "C++17",
   "name": "xcpp17"
  },
  "language_info": {
   "codemirror_mode": "text/x-c++src",
   "file_extension": ".cpp",
   "mimetype": "text/x-c++src",
   "name": "c++",
   "version": "17"
  }
 },
 "nbformat": 4,
 "nbformat_minor": 5
}
